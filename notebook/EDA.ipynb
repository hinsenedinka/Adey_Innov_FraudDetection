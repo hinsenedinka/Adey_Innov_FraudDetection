{
 "cells": [
  {
   "cell_type": "markdown",
   "id": "b2355001",
   "metadata": {},
   "source": [
    "**Exploratory Data Analysis**"
   ]
  },
  {
   "cell_type": "code",
   "execution_count": 1,
   "id": "9d145354",
   "metadata": {},
   "outputs": [],
   "source": [
    "import pandas as pd\n",
    "import numpy as np\n",
    "import matplotlib.pyplot as plt\n",
    "import seaborn as sns"
   ]
  },
  {
   "cell_type": "markdown",
   "id": "bc94cb50",
   "metadata": {},
   "source": [
    "**Loading Data**"
   ]
  },
  {
   "cell_type": "code",
   "execution_count": 2,
   "id": "c9100d13",
   "metadata": {},
   "outputs": [],
   "source": [
    "# Data Source Files\n",
    "fraud_data_path=r\"C:\\Users\\hp\\Kifiya Projects\\Adey_Innov_FraudDetection\\data\\raw\\Fraud_Data.csv\"\n",
    "creditcard_data_path=r\"C:\\Users\\hp\\Kifiya Projects\\Adey_Innov_FraudDetection\\data\\raw\\creditcard.csv\"\n",
    "ipaddress_data_path=r\"C:\\Users\\hp\\Kifiya Projects\\Adey_Innov_FraudDetection\\data\\raw\\IpAddress_to_Country.csv\"\n",
    "# retriving data from source path\n",
    "fraud_data_raw=pd.read_csv(fraud_data_path)\n",
    "creditcard_data_raw=pd.read_csv(creditcard_data_path)\n",
    "ipaddres_data_raw=pd.read_csv(ipaddress_data_path)"
   ]
  },
  {
   "cell_type": "code",
   "execution_count": 3,
   "id": "4e84520b",
   "metadata": {},
   "outputs": [
    {
     "name": "stdout",
     "output_type": "stream",
     "text": [
      "Credit Card Data\n",
      "                Time            V1            V2            V3            V4  \\\n",
      "count  284807.000000  2.848070e+05  2.848070e+05  2.848070e+05  2.848070e+05   \n",
      "mean    94813.859575  1.175161e-15  3.384974e-16 -1.379537e-15  2.094852e-15   \n",
      "std     47488.145955  1.958696e+00  1.651309e+00  1.516255e+00  1.415869e+00   \n",
      "min         0.000000 -5.640751e+01 -7.271573e+01 -4.832559e+01 -5.683171e+00   \n",
      "25%     54201.500000 -9.203734e-01 -5.985499e-01 -8.903648e-01 -8.486401e-01   \n",
      "50%     84692.000000  1.810880e-02  6.548556e-02  1.798463e-01 -1.984653e-02   \n",
      "75%    139320.500000  1.315642e+00  8.037239e-01  1.027196e+00  7.433413e-01   \n",
      "max    172792.000000  2.454930e+00  2.205773e+01  9.382558e+00  1.687534e+01   \n",
      "\n",
      "                 V5            V6            V7            V8            V9  \\\n",
      "count  2.848070e+05  2.848070e+05  2.848070e+05  2.848070e+05  2.848070e+05   \n",
      "mean   1.021879e-15  1.494498e-15 -5.620335e-16  1.149614e-16 -2.414189e-15   \n",
      "std    1.380247e+00  1.332271e+00  1.237094e+00  1.194353e+00  1.098632e+00   \n",
      "min   -1.137433e+02 -2.616051e+01 -4.355724e+01 -7.321672e+01 -1.343407e+01   \n",
      "25%   -6.915971e-01 -7.682956e-01 -5.540759e-01 -2.086297e-01 -6.430976e-01   \n",
      "50%   -5.433583e-02 -2.741871e-01  4.010308e-02  2.235804e-02 -5.142873e-02   \n",
      "75%    6.119264e-01  3.985649e-01  5.704361e-01  3.273459e-01  5.971390e-01   \n",
      "max    3.480167e+01  7.330163e+01  1.205895e+02  2.000721e+01  1.559499e+01   \n",
      "\n",
      "       ...           V21           V22           V23           V24  \\\n",
      "count  ...  2.848070e+05  2.848070e+05  2.848070e+05  2.848070e+05   \n",
      "mean   ...  1.628620e-16 -3.576577e-16  2.618565e-16  4.473914e-15   \n",
      "std    ...  7.345240e-01  7.257016e-01  6.244603e-01  6.056471e-01   \n",
      "min    ... -3.483038e+01 -1.093314e+01 -4.480774e+01 -2.836627e+00   \n",
      "25%    ... -2.283949e-01 -5.423504e-01 -1.618463e-01 -3.545861e-01   \n",
      "50%    ... -2.945017e-02  6.781943e-03 -1.119293e-02  4.097606e-02   \n",
      "75%    ...  1.863772e-01  5.285536e-01  1.476421e-01  4.395266e-01   \n",
      "max    ...  2.720284e+01  1.050309e+01  2.252841e+01  4.584549e+00   \n",
      "\n",
      "                V25           V26           V27           V28         Amount  \\\n",
      "count  2.848070e+05  2.848070e+05  2.848070e+05  2.848070e+05  284807.000000   \n",
      "mean   5.109395e-16  1.686100e-15 -3.661401e-16 -1.227452e-16      88.349619   \n",
      "std    5.212781e-01  4.822270e-01  4.036325e-01  3.300833e-01     250.120109   \n",
      "min   -1.029540e+01 -2.604551e+00 -2.256568e+01 -1.543008e+01       0.000000   \n",
      "25%   -3.171451e-01 -3.269839e-01 -7.083953e-02 -5.295979e-02       5.600000   \n",
      "50%    1.659350e-02 -5.213911e-02  1.342146e-03  1.124383e-02      22.000000   \n",
      "75%    3.507156e-01  2.409522e-01  9.104512e-02  7.827995e-02      77.165000   \n",
      "max    7.519589e+00  3.517346e+00  3.161220e+01  3.384781e+01   25691.160000   \n",
      "\n",
      "               Class  \n",
      "count  284807.000000  \n",
      "mean        0.001727  \n",
      "std         0.041527  \n",
      "min         0.000000  \n",
      "25%         0.000000  \n",
      "50%         0.000000  \n",
      "75%         0.000000  \n",
      "max         1.000000  \n",
      "\n",
      "[8 rows x 31 columns]\n",
      "Fraud Data\n",
      "   user_id          signup_time        purchase_time  purchase_value  \\\n",
      "0    22058  2015-02-24 22:55:49  2015-04-18 02:47:11              34   \n",
      "1   333320  2015-06-07 20:39:50  2015-06-08 01:38:54              16   \n",
      "2     1359  2015-01-01 18:52:44  2015-01-01 18:52:45              15   \n",
      "3   150084  2015-04-28 21:13:25  2015-05-04 13:54:50              44   \n",
      "4   221365  2015-07-21 07:09:52  2015-09-09 18:40:53              39   \n",
      "\n",
      "       device_id source browser sex  age    ip_address  class  \n",
      "0  QVPSPJUOCKZAR    SEO  Chrome   M   39  7.327584e+08      0  \n",
      "1  EOGFQPIZPYXFZ    Ads  Chrome   F   53  3.503114e+08      0  \n",
      "2  YSSKYOSJHPPLJ    SEO   Opera   M   53  2.621474e+09      1  \n",
      "3  ATGTXKYKUDUQN    SEO  Safari   M   41  3.840542e+09      0  \n",
      "4  NAUITBZFJKHWW    Ads  Safari   M   45  4.155831e+08      0  \n",
      "IpAddress Data\n"
     ]
    },
    {
     "data": {
      "text/html": [
       "<div>\n",
       "<style scoped>\n",
       "    .dataframe tbody tr th:only-of-type {\n",
       "        vertical-align: middle;\n",
       "    }\n",
       "\n",
       "    .dataframe tbody tr th {\n",
       "        vertical-align: top;\n",
       "    }\n",
       "\n",
       "    .dataframe thead th {\n",
       "        text-align: right;\n",
       "    }\n",
       "</style>\n",
       "<table border=\"1\" class=\"dataframe\">\n",
       "  <thead>\n",
       "    <tr style=\"text-align: right;\">\n",
       "      <th></th>\n",
       "      <th>lower_bound_ip_address</th>\n",
       "      <th>upper_bound_ip_address</th>\n",
       "      <th>country</th>\n",
       "    </tr>\n",
       "  </thead>\n",
       "  <tbody>\n",
       "    <tr>\n",
       "      <th>0</th>\n",
       "      <td>16777216.0</td>\n",
       "      <td>16777471</td>\n",
       "      <td>Australia</td>\n",
       "    </tr>\n",
       "    <tr>\n",
       "      <th>1</th>\n",
       "      <td>16777472.0</td>\n",
       "      <td>16777727</td>\n",
       "      <td>China</td>\n",
       "    </tr>\n",
       "    <tr>\n",
       "      <th>2</th>\n",
       "      <td>16777728.0</td>\n",
       "      <td>16778239</td>\n",
       "      <td>China</td>\n",
       "    </tr>\n",
       "    <tr>\n",
       "      <th>3</th>\n",
       "      <td>16778240.0</td>\n",
       "      <td>16779263</td>\n",
       "      <td>Australia</td>\n",
       "    </tr>\n",
       "    <tr>\n",
       "      <th>4</th>\n",
       "      <td>16779264.0</td>\n",
       "      <td>16781311</td>\n",
       "      <td>China</td>\n",
       "    </tr>\n",
       "  </tbody>\n",
       "</table>\n",
       "</div>"
      ],
      "text/plain": [
       "   lower_bound_ip_address  upper_bound_ip_address    country\n",
       "0              16777216.0                16777471  Australia\n",
       "1              16777472.0                16777727      China\n",
       "2              16777728.0                16778239      China\n",
       "3              16778240.0                16779263  Australia\n",
       "4              16779264.0                16781311      China"
      ]
     },
     "execution_count": 3,
     "metadata": {},
     "output_type": "execute_result"
    }
   ],
   "source": [
    "print(\"Credit Card Data\")\n",
    "print(creditcard_data_raw.describe())\n",
    "print(\"Fraud Data\")\n",
    "print(fraud_data_raw.head())\n",
    "print(\"IpAddress Data\")\n",
    "ipaddres_data_raw.head()"
   ]
  },
  {
   "cell_type": "code",
   "execution_count": 4,
   "id": "dba93924",
   "metadata": {},
   "outputs": [],
   "source": [
    "#Converting Dates to Datatime \n",
    "fraud_data_raw['signup_time']=pd.to_datetime(fraud_data_raw['signup_time'])\n",
    "fraud_data_raw['purchase_time']=pd.to_datetime(fraud_data_raw['purchase_time'])"
   ]
  },
  {
   "cell_type": "code",
   "execution_count": 5,
   "id": "1b30f774",
   "metadata": {},
   "outputs": [
    {
     "name": "stdout",
     "output_type": "stream",
     "text": [
      "ecommerce transaction\n",
      "Time      0\n",
      "V1        0\n",
      "V2        0\n",
      "V3        0\n",
      "V4        0\n",
      "V5        0\n",
      "V6        0\n",
      "V7        0\n",
      "V8        0\n",
      "V9        0\n",
      "V10       0\n",
      "V11       0\n",
      "V12       0\n",
      "V13       0\n",
      "V14       0\n",
      "V15       0\n",
      "V16       0\n",
      "V17       0\n",
      "V18       0\n",
      "V19       0\n",
      "V20       0\n",
      "V21       0\n",
      "V22       0\n",
      "V23       0\n",
      "V24       0\n",
      "V25       0\n",
      "V26       0\n",
      "V27       0\n",
      "V28       0\n",
      "Amount    0\n",
      "Class     0\n",
      "dtype: int64\n",
      "creditcard transaction\n",
      "user_id           0\n",
      "signup_time       0\n",
      "purchase_time     0\n",
      "purchase_value    0\n",
      "device_id         0\n",
      "source            0\n",
      "browser           0\n",
      "sex               0\n",
      "age               0\n",
      "ip_address        0\n",
      "class             0\n",
      "dtype: int64\n"
     ]
    }
   ],
   "source": [
    "#Checking for Missing Values\n",
    "Missing_values_Fraud_df=fraud_data_raw.isnull().sum()\n",
    "Missing_values_Credit_df=creditcard_data_raw.isnull().sum()\n",
    "print('ecommerce transaction')\n",
    "print(Missing_values_Credit_df)\n",
    "print('creditcard transaction')\n",
    "print(Missing_values_Fraud_df)"
   ]
  },
  {
   "cell_type": "code",
   "execution_count": 6,
   "id": "52d77b90",
   "metadata": {},
   "outputs": [
    {
     "name": "stdout",
     "output_type": "stream",
     "text": [
      "0 is found in Ecommerce transaction df\n",
      "1081 is found in CreditCard  transaction df\n",
      "removed all duplicated from creditcard transaction set and reassigned the cleaned set\n"
     ]
    }
   ],
   "source": [
    "#Checking for Duplicates and removal\n",
    "num_duplicates=fraud_data_raw.duplicated().sum()\n",
    "print(f\"{num_duplicates} is found in Ecommerce transaction df\")\n",
    "num_duplicates_credit=creditcard_data_raw.duplicated().sum()\n",
    "print(f\"{num_duplicates_credit} is found in CreditCard  transaction df\")\n",
    "creditcard_data_raw=creditcard_data_raw.drop_duplicates() # removed all duplicated\n",
    "print(f\"removed all duplicated from creditcard transaction set and reassigned the cleaned set\")"
   ]
  },
  {
   "cell_type": "code",
   "execution_count": 7,
   "id": "048b70aa",
   "metadata": {},
   "outputs": [
    {
     "data": {
      "image/png": "[encoded data removed]",
      "text/plain": [
       "<Figure size 1200x600 with 6 Axes>"
      ]
     },
     "metadata": {},
     "output_type": "display_data"
    }
   ],
   "source": [
    "# Univariant analysis\n",
    "#Numerical Values\n",
    "numerical_columns=fraud_data_raw.select_dtypes('number')\n",
    "nrows=2\n",
    "ncols=3\n",
    "fig, axes= plt.subplots(nrows, ncols, figsize=(12,6))\n",
    "axes=axes.flatten()\n",
    "for i, cols in enumerate(numerical_columns):\n",
    "    axes[i].hist(fraud_data_raw[cols],color='green',edgecolor='black',density=True)\n",
    "    axes[i].set_xlabel(cols)\n",
    "    axes[i].set_ylabel('Frequency')\n",
    "fig.suptitle('Distribution of Numerical Features in Fraud Data', fontsize=16, fontweight='bold', y=1.02)\n",
    "\n",
    "plt.tight_layout()\n",
    "plt.show()\n"
   ]
  },
  {
   "cell_type": "code",
   "execution_count": 8,
   "id": "7d04aff5",
   "metadata": {},
   "outputs": [
    {
     "data": {
      "image/png": "[encoded data removed]",
      "text/plain": [
       "<Figure size 1200x400 with 3 Axes>"
      ]
     },
     "metadata": {},
     "output_type": "display_data"
    }
   ],
   "source": [
    "#Categorical univariant analysis\n",
    "categorical_columns=['browser','sex','source']\n",
    "nrows=1\n",
    "ncols=3\n",
    "fig,axes=plt.subplots(nrows,ncols,figsize=(12,4))\n",
    "axes=axes.flatten()\n",
    "for i,cols in enumerate(categorical_columns):\n",
    "    ax=axes[i]\n",
    "    sns.countplot(data=fraud_data_raw,x=cols,ax=ax,color='Blue',edgecolor='black')\n",
    "    ax.set_xlabel(cols)\n",
    "    ax.set_ylabel('frequency')\n",
    "fig.suptitle('Distribution of Categorical values', fontsize=16,fontweight='bold', y=1.06)\n",
    "\n",
    "plt.tight_layout()\n",
    "plt.show()"
   ]
  },
  {
   "cell_type": "markdown",
   "id": "ff38d829",
   "metadata": {},
   "source": [
    "**Merging**"
   ]
  },
  {
   "cell_type": "code",
   "execution_count": 9,
   "id": "353e6bd4",
   "metadata": {},
   "outputs": [],
   "source": [
    "ipaddres_data_raw['lower_bound_ip_address'] = ipaddres_data_raw['lower_bound_ip_address'].astype(int)\n",
    "ipaddres_data_raw['upper_bound_ip_address'] = ipaddres_data_raw['upper_bound_ip_address'].astype(int)\n",
    "fraud_data_raw['ip_address']=fraud_data_raw['ip_address'].astype(int)\n"
   ]
  },
  {
   "cell_type": "code",
   "execution_count": null,
   "id": "8ae30477",
   "metadata": {},
   "outputs": [
    {
     "name": "stdout",
     "output_type": "stream",
     "text": [
      "First 5 rows of the successfully merged and filtered data:\n",
      "   user_id         signup_time       purchase_time  purchase_value  \\\n",
      "0    62421 2015-02-16 00:17:05 2015-03-08 10:00:39              46   \n",
      "1   173212 2015-03-08 04:03:22 2015-03-20 17:23:45              33   \n",
      "2   242286 2015-05-17 16:45:54 2015-05-26 08:54:34              33   \n",
      "3   370003 2015-03-03 19:58:39 2015-05-28 21:09:13              33   \n",
      "4   119824 2015-03-20 00:31:27 2015-04-05 07:31:46              55   \n",
      "\n",
      "       device_id  source  browser sex  age  ip_address  class  \\\n",
      "0  ZCLZTAJPCRAQX  Direct   Safari   M   36       52093      0   \n",
      "1  YFGYOALADBHLT     Ads       IE   F   30       93447      0   \n",
      "2  QZNVQTUITFTHH  Direct  FireFox   F   32      105818      0   \n",
      "3  PIBUQMBIELMMG     Ads       IE   M   40      117566      0   \n",
      "4  WFIIFCPIOGMHT     Ads   Safari   M   38      131423      0   \n",
      "\n",
      "   lower_bound_ip_address  upper_bound_ip_address    country  \n",
      "0              16777216.0              16777471.0  Australia  \n",
      "1              16777216.0              16777471.0  Australia  \n",
      "2              16777216.0              16777471.0  Australia  \n",
      "3              16777216.0              16777471.0  Australia  \n",
      "4              16777216.0              16777471.0  Australia  \n"
     ]
    }
   ],
   "source": [
    "\n",
    "fraud_data_raw.sort_values('ip_address', inplace=True)\n",
    "ipaddres_data_raw.sort_values('lower_bound_ip_address', inplace=True)\n",
    "\n",
    "# Now, perform the merge_asof\n",
    "merged_data = pd.merge_asof(\n",
    "    fraud_data_raw,\n",
    "    ipaddres_data_raw[['lower_bound_ip_address', 'upper_bound_ip_address', 'country']],\n",
    "    left_on='ip_address',\n",
    "    right_on='lower_bound_ip_address',\n",
    "    direction='forward')\n",
    "\n",
    "# Filter to ensure the IP is within the range\n",
    "final_merged_data = merged_data[merged_data['ip_address'] <= merged_data['upper_bound_ip_address']]\n",
    "\n",
    "print(\"First 5 rows of the successfully merged and filtered data:\")\n",
    "print(final_merged_data.head())"
   ]
  },
  {
   "cell_type": "code",
   "execution_count": 15,
   "id": "076fe2a4",
   "metadata": {},
   "outputs": [
    {
     "data": {
      "text/plain": [
       "user_id                    int64\n",
       "signup_time       datetime64[ns]\n",
       "purchase_time     datetime64[ns]\n",
       "purchase_value             int64\n",
       "device_id                 object\n",
       "source                    object\n",
       "browser                   object\n",
       "sex                       object\n",
       "age                        int64\n",
       "ip_address                 int64\n",
       "class                      int64\n",
       "dtype: object"
      ]
     },
     "execution_count": 15,
     "metadata": {},
     "output_type": "execute_result"
    }
   ],
   "source": [
    "fraud_data_raw.dtypes"
   ]
  },
  {
   "cell_type": "code",
   "execution_count": 13,
   "id": "63db7fc0",
   "metadata": {},
   "outputs": [],
   "source": [
    "# Convert time columns to datetime objects\n",
    "fraud_data_raw['signup_time'] = pd.to_datetime(fraud_data_raw['signup_time'])\n",
    "fraud_data_raw['purchase_time'] = pd.to_datetime(fraud_data_raw['purchase_time'])\n",
    "\n",
    "df = fraud_data_raw.sort_values(by=['user_id', 'purchase_time'])\n",
    "\n",
    "# Time since signup in hours\n",
    "df['time_since_signup_hours'] = (df['purchase_time'] - df['signup_time']).dt.total_seconds() / 3600\n",
    "\n",
    "# Hour of day and day of week\n",
    "df['hour_of_day'] = df['purchase_time'].dt.hour\n",
    "df['day_of_week'] = df['purchase_time'].dt.dayofweek\n",
    "\n",
    "\n",
    "df['transaction_count_24h'] = df.groupby('user_id')['purchase_time'].transform(lambda x: x.diff().dt.total_seconds().gt(0).cumsum())\n",
    "\n",
    "\n",
    "df['ip_transaction_count'] = df.groupby('ip_address')['ip_address'].transform('count')\n",
    "\n",
    "# For real-world IP geocoding, you'd use a library like 'geopy' or a free API\n",
    "# Example: df['country'] = df['ip_address'].apply(lambda x: get_country_from_ip(x))"
   ]
  },
  {
   "cell_type": "code",
   "execution_count": 22,
   "id": "d9b482b7",
   "metadata": {},
   "outputs": [
    {
     "name": "stdout",
     "output_type": "stream",
     "text": [
      "Shape of final training data (sparse matrix): (120889, 352914)\n",
      "Shape of final test data (sparse matrix): (30223, 352914)\n"
     ]
    }
   ],
   "source": [
    "\n",
    "from sklearn.model_selection import train_test_split\n",
    "from sklearn.preprocessing import StandardScaler, OneHotEncoder\n",
    "from imblearn.over_sampling import SMOTE\n",
    "from collections import Counter\n",
    "\n",
    "X = df.drop(columns=['class'])\n",
    "y = df['class']\n",
    "\n",
    "# 2. Correctly identify feature types\n",
    "numerical_features = X.select_dtypes(include=np.number).columns.tolist()\n",
    "categorical_features = X.select_dtypes(exclude=np.number).columns.tolist()\n",
    "\n",
    "# 3. Create your train/test split from the full dataset.\n",
    "X_train, X_test, y_train, y_test = train_test_split(X, y, test_size=0.2, random_state=42, stratify=y)\n",
    "\n",
    "# 4. Perform One-Hot Encoding\n",
    "encoder = OneHotEncoder(handle_unknown='ignore', sparse_output=True)\n",
    "X_train_encoded_sparse = encoder.fit_transform(X_train[categorical_features])\n",
    "X_test_encoded_sparse = encoder.transform(X_test[categorical_features])\n",
    "\n",
    "# 5. Perform Standardization\n",
    "scaler = StandardScaler()\n",
    "X_train_scaled = scaler.fit_transform(X_train[numerical_features])\n",
    "X_test_scaled = scaler.transform(X_test[numerical_features])\n",
    "\n",
    "# 6. Combine the data\n",
    "from scipy.sparse import hstack\n",
    "X_train_processed = hstack([X_train_scaled, X_train_encoded_sparse])\n",
    "X_test_processed = hstack([X_test_scaled, X_test_encoded_sparse])\n",
    "\n",
    "\n",
    "# Example check of the final shape\n",
    "print(\"Shape of final training data (sparse matrix):\", X_train_processed.shape)\n",
    "print(\"Shape of final test data (sparse matrix):\", X_test_processed.shape)"
   ]
  },
  {
   "cell_type": "code",
   "execution_count": null,
   "id": "50b5daad",
   "metadata": {},
   "outputs": [],
   "source": []
  }
 ],
 "metadata": {
  "kernelspec": {
   "display_name": ".venv",
   "language": "python",
   "name": "python3"
  },
  "language_info": {
   "codemirror_mode": {
    "name": "ipython",
    "version": 3
   },
   "file_extension": ".py",
   "mimetype": "text/x-python",
   "name": "python",
   "nbconvert_exporter": "python",
   "pygments_lexer": "ipython3",
   "version": "3.13.3"
  }
 },
 "nbformat": 4,
 "nbformat_minor": 5
}
